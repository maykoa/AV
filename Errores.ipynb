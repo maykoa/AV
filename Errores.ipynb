{
  "nbformat": 4,
  "nbformat_minor": 0,
  "metadata": {
    "colab": {
      "name": "Errores.ipynb",
      "provenance": [],
      "include_colab_link": true
    },
    "kernelspec": {
      "name": "python3",
      "display_name": "Python 3"
    },
    "language_info": {
      "name": "python"
    }
  },
  "cells": [
    {
      "cell_type": "markdown",
      "metadata": {
        "id": "view-in-github",
        "colab_type": "text"
      },
      "source": [
        "<a href=\"https://colab.research.google.com/github/maykoa/AV/blob/master/Errores.ipynb\" target=\"_parent\"><img src=\"https://colab.research.google.com/assets/colab-badge.svg\" alt=\"Open In Colab\"/></a>"
      ]
    },
    {
      "cell_type": "markdown",
      "metadata": {
        "id": "NywlHqb0apco"
      },
      "source": [
        "# 1 Error Semántico\n",
        "https://runestone.academy/runestone/books/published/thinkcspy/GeneralIntro/SemanticErrors.html#:~:text=A%20semantic%20error%20is%20an%20error%20in%20logic.,correctly.%20This%20would%20be%20considered%20a%20run-time%20error."
      ]
    },
    {
      "cell_type": "code",
      "metadata": {
        "colab": {
          "base_uri": "https://localhost:8080/"
        },
        "id": "Db3NCV_galro",
        "outputId": "24c535a5-e556-4eab-ccdb-5ed81427e66f"
      },
      "source": [
        "total=98\n",
        "porciento=total/100\n",
        "print(porciento)"
      ],
      "execution_count": 5,
      "outputs": [
        {
          "output_type": "stream",
          "name": "stdout",
          "text": [
            "0.98\n"
          ]
        }
      ]
    },
    {
      "cell_type": "markdown",
      "source": [
        "# 2 Error sintáctico \n",
        "https://runestone.academy/runestone/books/published/thinkcspy/GeneralIntro/Syntaxerrors.html"
      ],
      "metadata": {
        "id": "cTY9lxcsymtJ"
      }
    },
    {
      "cell_type": "code",
      "metadata": {
        "colab": {
          "base_uri": "https://localhost:8080/"
        },
        "id": "gn9eR4vab0Dy",
        "outputId": "f485fe36-7669-46a3-e2c1-698f6403ee09"
      },
      "source": [
        "b=1\n",
        "c=3\n",
        "a=(b+c/2)\n",
        "a"
      ],
      "execution_count": 6,
      "outputs": [
        {
          "output_type": "execute_result",
          "data": {
            "text/plain": [
              "2.5"
            ]
          },
          "metadata": {},
          "execution_count": 6
        }
      ]
    },
    {
      "cell_type": "markdown",
      "metadata": {
        "id": "MAHs5_ficQQQ"
      },
      "source": [
        "# 1 Error en tiempo de ejecución \n",
        "https://runestone.academy/runestone/books/published/thinkcspy/GeneralIntro/RuntimeErrors.html"
      ]
    },
    {
      "cell_type": "code",
      "metadata": {
        "id": "b4kxMKK5cPbU",
        "colab": {
          "base_uri": "https://localhost:8080/"
        },
        "outputId": "1d8cb300-0562-4203-f1e1-457d9dc85f41"
      },
      "source": [
        "c=2\n",
        "b=10/c\n",
        "b"
      ],
      "execution_count": 8,
      "outputs": [
        {
          "output_type": "execute_result",
          "data": {
            "text/plain": [
              "5.0"
            ]
          },
          "metadata": {},
          "execution_count": 8
        }
      ]
    }
  ]
}