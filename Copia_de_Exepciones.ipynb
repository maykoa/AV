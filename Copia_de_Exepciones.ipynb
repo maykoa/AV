{
  "nbformat": 4,
  "nbformat_minor": 0,
  "metadata": {
    "colab": {
      "name": "Copia de Exepciones",
      "provenance": [],
      "include_colab_link": true
    },
    "kernelspec": {
      "name": "python3",
      "display_name": "Python 3"
    },
    "language_info": {
      "name": "python"
    }
  },
  "cells": [
    {
      "cell_type": "markdown",
      "metadata": {
        "id": "view-in-github",
        "colab_type": "text"
      },
      "source": [
        "<a href=\"https://colab.research.google.com/github/maykoa/AV/blob/master/Copia_de_Exepciones.ipynb\" target=\"_parent\"><img src=\"https://colab.research.google.com/assets/colab-badge.svg\" alt=\"Open In Colab\"/></a>"
      ]
    },
    {
      "cell_type": "code",
      "execution_count": 1,
      "metadata": {
        "id": "E4RkxgKRNgsv"
      },
      "outputs": [],
      "source": [
        "def dividir(num,div):\n",
        "  return num/div"
      ]
    },
    {
      "cell_type": "code",
      "source": [
        "dividir(2,10)"
      ],
      "metadata": {
        "id": "SASNHxFbNr8r",
        "outputId": "45846ceb-8039-4bec-afda-dc20c0e13d6c",
        "colab": {
          "base_uri": "https://localhost:8080/"
        }
      },
      "execution_count": 4,
      "outputs": [
        {
          "output_type": "execute_result",
          "data": {
            "text/plain": [
              "0.2"
            ]
          },
          "metadata": {},
          "execution_count": 4
        }
      ]
    },
    {
      "cell_type": "markdown",
      "source": [
        "## Ejercicio \n",
        "manejar ZeroDivisionError en Python\n"
      ],
      "metadata": {
        "id": "uo6cTgOoN-UR"
      }
    },
    {
      "cell_type": "markdown",
      "source": [
        "Podemos tratar esta división entre cero como una excepción, haciendo lo siguiente:\n",
        "\n",
        "* Desde el bloque try llama a la función dividir().\n",
        "* En el bloque except tendremos una excepción en caso de que div sea igual a cero.\n",
        "* En este ejemplo se hace una excepción a ZeroDivisionError (el tipo de error) el cual se especifica en except\n",
        "* Cuando se detecte el error ZeroDivisionError se ejecutara el bloque except donde pondremos un mensaje informando que se trató de dividir entre cero.\n",
        "\n",
        "[Código en Python](https://www.w3schools.com/python/python_try_except.asp)"
      ],
      "metadata": {
        "id": "E56E-nYdOHbg"
      }
    },
    {
      "cell_type": "code",
      "source": [
        "try:\n",
        "    res=dividir(5,0)\n",
        "    #Imprimir resultado\n",
        "    print(res)\n",
        "except ZeroDivisionError:\n",
        "  print(\"Intentaste dividir por cero\")\n",
        "    \n"
      ],
      "metadata": {
        "id": "CdpxhRo3O04G",
        "outputId": "7a567d82-9e55-4380-be21-f03727a77997",
        "colab": {
          "base_uri": "https://localhost:8080/"
        }
      },
      "execution_count": 11,
      "outputs": [
        {
          "output_type": "stream",
          "name": "stdout",
          "text": [
            "Intentaste dividir por cero\n"
          ]
        }
      ]
    }
  ]
}